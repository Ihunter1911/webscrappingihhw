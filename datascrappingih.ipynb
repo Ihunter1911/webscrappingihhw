{
 "cells": [
  {
   "cell_type": "code",
   "execution_count": 4,
   "metadata": {},
   "outputs": [],
   "source": [
    "#dependencies\n",
    "import pandas as pd\n",
    "from bs4 import BeautifulSoup as bs\n",
    "import requests\n",
    "import time"
   ]
  },
  {
   "cell_type": "code",
   "execution_count": 5,
   "metadata": {},
   "outputs": [],
   "source": [
    "# # Mars Headlines\n",
    "#url and get page with requests\n",
    "url = 'https://mars.nasa.gov/news/'\n",
    "response = requests.get(url)"
   ]
  },
  {
   "cell_type": "code",
   "execution_count": 6,
   "metadata": {},
   "outputs": [],
   "source": [
    "#get your soup (object)\n",
    "headlines_soup = bs(response.text, 'lxml')"
   ]
  },
  {
   "cell_type": "code",
   "execution_count": 7,
   "metadata": {},
   "outputs": [],
   "source": [
    "#scrape the latest news headline text and get rid of the white space\n",
    "headline = headlines_soup.find('div', class_ = 'content_title').text.strip()"
   ]
  },
  {
   "cell_type": "code",
   "execution_count": 8,
   "metadata": {},
   "outputs": [
    {
     "name": "stdout",
     "output_type": "stream",
     "text": [
      "NASA's Curiosity Mars Rover Finds a Clay Cache\n"
     ]
    }
   ],
   "source": [
    "#print it to make sure it works\n",
    "print(headline)"
   ]
  },
  {
   "cell_type": "code",
   "execution_count": 9,
   "metadata": {},
   "outputs": [],
   "source": [
    "#scrape the blurb text that goes with the headline - a.k.a. the first paragraph without white space \n",
    "news = headlines_soup.find('div', class_ = 'rollover_description_inner').text.strip()"
   ]
  },
  {
   "cell_type": "code",
   "execution_count": 10,
   "metadata": {},
   "outputs": [
    {
     "name": "stdout",
     "output_type": "stream",
     "text": [
      "The rover recently drilled two samples, and both showed the highest levels of clay ever found during the mission.\n"
     ]
    }
   ],
   "source": [
    "#make sure that one worked too...\n",
    "print(news)"
   ]
  },
  {
   "cell_type": "code",
   "execution_count": 11,
   "metadata": {},
   "outputs": [],
   "source": [
    "# # Get your featured image of Mars\n",
    "# Import Selenium & Splinter and set the chromedriver path (I'm on windows)\n",
    "from selenium import webdriver\n",
    "from splinter import Browser\n",
    "executable_path = {\"executable_path\": \"chromedriver\"}\n",
    "browser = Browser(\"chrome\", **executable_path, headless=False)"
   ]
  },
  {
   "cell_type": "code",
   "execution_count": 12,
   "metadata": {},
   "outputs": [],
   "source": [
    "#visit the URL\n",
    "url = \"https://www.jpl.nasa.gov/spaceimages/?search=&category=Mars\"\n",
    "browser.visit(url)"
   ]
  },
  {
   "cell_type": "code",
   "execution_count": 13,
   "metadata": {},
   "outputs": [],
   "source": [
    "#click the button to get to the full image\n",
    "browser.click_link_by_id('full_image')"
   ]
  },
  {
   "cell_type": "code",
   "execution_count": 12,
   "metadata": {},
   "outputs": [],
   "source": [
    "#hold 2 seconds to let it load\n",
    "time.sleep(2)"
   ]
  },
  {
   "cell_type": "code",
   "execution_count": 14,
   "metadata": {},
   "outputs": [],
   "source": [
    "#scrape browser into soup and find full resolution image of Mars\n",
    "#btw, there is no \"largesize\" image link\n",
    "#Bring up the image\n",
    "html = browser.html\n",
    "image_soup = bs(html, \"lxml\")\n",
    "img_url = image_soup.find('img', class_ = 'fancybox-image')['src']"
   ]
  },
  {
   "cell_type": "code",
   "execution_count": 15,
   "metadata": {},
   "outputs": [],
   "source": [
    "#append the url snippet to make it the full url of the image \n",
    "featured_img_url = \"https://www.jpl.nasa.gov\" + img_url"
   ]
  },
  {
   "cell_type": "code",
   "execution_count": 16,
   "metadata": {},
   "outputs": [
    {
     "data": {
      "text/plain": [
       "'https://www.jpl.nasa.gov/spaceimages/images/mediumsize/PIA17761_ip.jpg'"
      ]
     },
     "execution_count": 16,
     "metadata": {},
     "output_type": "execute_result"
    }
   ],
   "source": [
    "#verify we have the url\n",
    "featured_img_url"
   ]
  },
  {
   "cell_type": "code",
   "execution_count": 17,
   "metadata": {},
   "outputs": [],
   "source": [
    "#on to getting the latest tweet about the weather on Mars\n",
    "url = 'https://twitter.com/marswxreport?lang=en'\n",
    "response = requests.get(url)"
   ]
  },
  {
   "cell_type": "code",
   "execution_count": 18,
   "metadata": {},
   "outputs": [],
   "source": [
    "# create soup object\n",
    "weather_soup = bs(response.text, 'html.parser')"
   ]
  },
  {
   "cell_type": "code",
   "execution_count": 19,
   "metadata": {},
   "outputs": [],
   "source": [
    "#grab all the tweets in case the first one isn't the one you want\n",
    "mars_weather_tweet = weather_soup.select(\".tweet-text\")"
   ]
  },
  {
   "cell_type": "code",
   "execution_count": 19,
   "metadata": {},
   "outputs": [],
   "source": [
    "# find the first actual weather tweet (they start with \"sol\")\n",
    "for tweet in mars_weather_tweet:\n",
    "    if tweet.text.strip().startswith('Sol'):\n",
    "        mars_weather = tweet.text.strip()"
   ]
  },
  {
   "cell_type": "code",
   "execution_count": 20,
   "metadata": {},
   "outputs": [
    {
     "name": "stdout",
     "output_type": "stream",
     "text": [
      "[<p class=\"TweetTextSize TweetTextSize--normal js-tweet-text tweet-text\" data-aria-label-part=\"0\" lang=\"en\">InSight sol 195 (2019-06-14) low -105.6ºC (-158.1ºF) high -23.8ºC (-10.8ºF)\n",
      "winds from the SSE at 4.3 m/s (9.7 mph) gusting to 14.5 m/s (32.5 mph)\n",
      "pressure at 7.60 hPa<a class=\"twitter-timeline-link u-hidden\" data-pre-embedded=\"true\" dir=\"ltr\" href=\"https://t.co/3LNNz5uXCd\">pic.twitter.com/3LNNz5uXCd</a></p>, <p class=\"TweetTextSize TweetTextSize--normal js-tweet-text tweet-text\" data-aria-label-part=\"0\" lang=\"en\">InSight sol 194 (2019-06-13) low -104.4ºC (-155.9ºF) high -23.5ºC (-10.3ºF)\n",
      "winds from the SSE at 4.5 m/s (10.0 mph) gusting to 17.0 m/s (38.1 mph)\n",
      "pressure at 7.60 hPa</p>, <p class=\"TweetTextSize TweetTextSize--normal js-tweet-text tweet-text\" data-aria-label-part=\"0\" lang=\"en\">InSight sol 193 (2019-06-12) low -103.7ºC (-154.7ºF) high -23.0ºC (-9.4ºF)\n",
      "winds from the SSE at 4.4 m/s (9.8 mph) gusting to 15.7 m/s (35.1 mph)\n",
      "pressure at 7.60 hPa<a class=\"twitter-timeline-link u-hidden\" data-pre-embedded=\"true\" dir=\"ltr\" href=\"https://t.co/EhemsIhPLv\">pic.twitter.com/EhemsIhPLv</a></p>, <p class=\"TweetTextSize TweetTextSize--normal js-tweet-text tweet-text\" data-aria-label-part=\"0\" lang=\"en\">InSight sol 192 (2019-06-11) low -104.9ºC (-156.8ºF) high -23.6ºC (-10.6ºF)\n",
      "winds from the W at 4.3 m/s (9.7 mph) gusting to 15.4 m/s (34.4 mph)\n",
      "pressure at 7.60 hPa<a class=\"twitter-timeline-link u-hidden\" data-pre-embedded=\"true\" dir=\"ltr\" href=\"https://t.co/qacCeZLc6e\">pic.twitter.com/qacCeZLc6e</a></p>, <p class=\"TweetTextSize TweetTextSize--normal js-tweet-text tweet-text\" data-aria-label-part=\"0\" lang=\"en\">InSight sol 191 (2019-06-10) low -104.9ºC (-156.9ºF) high -21.6ºC (-6.9ºF)\n",
      "winds from the SSE at 4.4 m/s (9.9 mph) gusting to 15.2 m/s (33.9 mph)\n",
      "pressure at 7.60 hPa</p>, <p class=\"TweetTextSize TweetTextSize--normal js-tweet-text tweet-text\" data-aria-label-part=\"4\" lang=\"en\">Mars has a new 16 mile wide crater. Hopefully <a class=\"twitter-atreply pretty-link js-nav\" data-mentioned-user-id=\"407387443\" dir=\"ltr\" href=\"/NASAInSight\"><s>@</s><b>NASAInSight</b></a> heard it hit.<a class=\"twitter-timeline-link u-hidden\" data-expanded-url=\"https://twitter.com/peter_grindrod/status/1138734735147057153\" dir=\"ltr\" href=\"https://t.co/tplnxgL9Xe\" rel=\"nofollow noopener\" target=\"_blank\" title=\"https://twitter.com/peter_grindrod/status/1138734735147057153\"><span class=\"tco-ellipsis\"></span><span class=\"invisible\">https://</span><span class=\"js-display-url\">twitter.com/peter_grindrod</span><span class=\"invisible\">/status/1138734735147057153</span><span class=\"tco-ellipsis\"><span class=\"invisible\"> </span>…</span></a></p>, <div class=\"QuoteTweet-text tweet-text u-dir js-ellipsis\" data-aria-label-part=\"2\" dir=\"ltr\" lang=\"en\">KABOOM! Before and after images of a meteorite forming a brand new impact crater on Mars. Sometime between 18 Feb 2017 and 20 March 2019. <span class=\"twitter-timeline-link u-hidden\" data-pre-embedded=\"true\" dir=\"ltr\">pic.twitter.com/TWXtUoP5NA</span></div>, <p class=\"TweetTextSize TweetTextSize--normal js-tweet-text tweet-text\" data-aria-label-part=\"0\" lang=\"en\">InSight sol 190 (2019-06-09) low -104.1ºC (-155.3ºF) high -22.5ºC (-8.5ºF)\n",
      "winds from the SSE at 4.6 m/s (10.3 mph) gusting to 16.6 m/s (37.1 mph)\n",
      "pressure at 7.60 hPa<a class=\"twitter-timeline-link u-hidden\" data-pre-embedded=\"true\" dir=\"ltr\" href=\"https://t.co/Z6vS1S8RJo\">pic.twitter.com/Z6vS1S8RJo</a></p>, <p class=\"TweetTextSize TweetTextSize--normal js-tweet-text tweet-text\" data-aria-label-part=\"0\" lang=\"en\">InSight sol 189 (2019-06-08) low -102.2ºC (-152.0ºF) high -22.4ºC (-8.3ºF)\n",
      "winds from the SSE at 4.7 m/s (10.5 mph) gusting to 16.5 m/s (36.9 mph)\n",
      "pressure at 7.60 hPa</p>, <p class=\"TweetTextSize TweetTextSize--normal js-tweet-text tweet-text\" data-aria-label-part=\"0\" lang=\"en\"><a class=\"twitter-hashtag pretty-link js-nav\" data-query-source=\"hashtag_click\" dir=\"ltr\" href=\"/hashtag/OnThisDay?src=hash\"><s>#</s><b>OnThisDay</b></a> June 10, 2003: Mars Rover Spirit launched, mission lasted 2695 Sols, extending the planned primary mission by 30x. <a class=\"twitter-hashtag pretty-link js-nav\" data-query-source=\"hashtag_click\" dir=\"ltr\" href=\"/hashtag/ThisDayinHistory?src=hash\"><s>#</s><b>ThisDayinHistory</b></a> \n",
      "\n",
      "(H/T <a class=\"twitter-atreply pretty-link js-nav\" data-mentioned-user-id=\"16207462\" dir=\"ltr\" href=\"/rtphokie\"><s>@</s><b>rtphokie</b></a>)</p>, <p class=\"TweetTextSize TweetTextSize--normal js-tweet-text tweet-text\" data-aria-label-part=\"0\" lang=\"en\">InSight sol 188 (2019-06-07) low -102.5ºC (-152.6ºF) high -21.9ºC (-7.4ºF)\n",
      "winds from the SSE at 4.8 m/s (10.8 mph) gusting to 15.6 m/s (35.0 mph)\n",
      "pressure at 7.60 hPa<a class=\"twitter-timeline-link u-hidden\" data-pre-embedded=\"true\" dir=\"ltr\" href=\"https://t.co/ocUTA1rgaU\">pic.twitter.com/ocUTA1rgaU</a></p>, <p class=\"TweetTextSize TweetTextSize--normal js-tweet-text tweet-text\" data-aria-label-part=\"0\" lang=\"en\">InSight sol 187 (2019-06-06) low -102.8ºC (-153.1ºF) high -21.9ºC (-7.5ºF)\n",
      "winds from the SSE at 4.4 m/s (9.8 mph) gusting to 16.1 m/s (36.1 mph)\n",
      "pressure at 7.60 hPa</p>, <p class=\"TweetTextSize TweetTextSize--normal js-tweet-text tweet-text\" data-aria-label-part=\"0\" lang=\"en\">InSight sol 186 (2019-06-05) low -101.7ºC (-151.0ºF) high -21.8ºC (-7.2ºF)\n",
      "winds from the SSE at 4.6 m/s (10.3 mph) gusting to 16.2 m/s (36.3 mph)\n",
      "pressure at 7.60 hPa</p>, <p class=\"TweetTextSize TweetTextSize--normal js-tweet-text tweet-text\" data-aria-label-part=\"0\" lang=\"en\">InSight sol 185 (2019-06-04) low -100.7ºC (-149.3ºF) high -21.2ºC (-6.2ºF)\n",
      "winds from the W at 4.5 m/s (10.1 mph) gusting to 15.3 m/s (34.3 mph)\n",
      "pressure at 7.60 hPa</p>, <p class=\"TweetTextSize TweetTextSize--normal js-tweet-text tweet-text\" data-aria-label-part=\"0\" lang=\"en\">Watch the <a class=\"twitter-hashtag pretty-link js-nav\" data-query-source=\"hashtag_click\" dir=\"ltr\" href=\"/hashtag/Mars2020?src=hash\"><s>#</s><b>Mars2020</b></a> rover being built live from <a class=\"twitter-atreply pretty-link js-nav\" data-mentioned-user-id=\"19802879\" dir=\"ltr\" href=\"/NASAJPL\"><s>@</s><b>NASAJPL</b></a><a class=\"twitter-timeline-link u-hidden\" data-expanded-url=\"https://youtu.be/PaNiYPglK58\" dir=\"ltr\" href=\"https://t.co/Rls4ucVpgR\" rel=\"nofollow noopener\" target=\"_blank\" title=\"https://youtu.be/PaNiYPglK58\"><span class=\"tco-ellipsis\"></span><span class=\"invisible\">https://</span><span class=\"js-display-url\">youtu.be/PaNiYPglK58</span><span class=\"invisible\"></span><span class=\"tco-ellipsis\"><span class=\"invisible\"> </span></span></a></p>, <p class=\"TweetTextSize TweetTextSize--normal js-tweet-text tweet-text\" data-aria-label-part=\"0\" lang=\"en\">InSight sol 184 (2019-06-03) low -101.3ºC (-150.4ºF) high -22.1ºC (-7.7ºF)\n",
      "winds from the W at 4.5 m/s (10.0 mph) gusting to 15.2 m/s (33.9 mph)\n",
      "pressure at 7.60 hPa<a class=\"twitter-timeline-link u-hidden\" data-pre-embedded=\"true\" dir=\"ltr\" href=\"https://t.co/9e75FL7Fj5\">pic.twitter.com/9e75FL7Fj5</a></p>, <p class=\"TweetTextSize TweetTextSize--normal js-tweet-text tweet-text\" data-aria-label-part=\"0\" lang=\"en\">InSight sol 183 (2019-06-02) low -101.1ºC (-150.0ºF) high -22.3ºC (-8.2ºF)\n",
      "winds from the SSE at 4.9 m/s (11.1 mph) gusting to 15.2 m/s (33.9 mph)\n",
      "pressure at 7.60 hPa<a class=\"twitter-timeline-link u-hidden\" data-pre-embedded=\"true\" dir=\"ltr\" href=\"https://t.co/X7ISVrTgLY\">pic.twitter.com/X7ISVrTgLY</a></p>, <p class=\"TweetTextSize TweetTextSize--normal js-tweet-text tweet-text\" data-aria-label-part=\"0\" lang=\"en\">InSight sol 182 (2019-06-01) low -99.7ºC (-147.5ºF) high -22.6ºC (-8.7ºF)\n",
      "winds from the SSE at 5.7 m/s (12.7 mph) gusting to 15.9 m/s (35.5 mph)\n",
      "pressure at 7.50 hPa<a class=\"twitter-timeline-link u-hidden\" data-pre-embedded=\"true\" dir=\"ltr\" href=\"https://t.co/NmzIAqOiDG\">pic.twitter.com/NmzIAqOiDG</a></p>, <p class=\"TweetTextSize TweetTextSize--normal js-tweet-text tweet-text\" data-aria-label-part=\"0\" lang=\"en\">InSight sol 181 (2019-05-31) low -100.6ºC (-149.1ºF) high -20.7ºC (-5.3ºF)\n",
      "winds from the SW at 5.1 m/s (11.3 mph) gusting to 14.9 m/s (33.3 mph)\n",
      "pressure at 7.50 hPa<a class=\"twitter-timeline-link u-hidden\" data-pre-embedded=\"true\" dir=\"ltr\" href=\"https://t.co/li2rdNRsJx\">pic.twitter.com/li2rdNRsJx</a></p>, <p class=\"TweetTextSize TweetTextSize--normal js-tweet-text tweet-text\" data-aria-label-part=\"0\" lang=\"en\">InSight sol 180 (2019-05-30) low -101.1ºC (-149.9ºF) high -21.8ºC (-7.2ºF)\n",
      "winds from the S at 4.7 m/s (10.5 mph) gusting to 14.7 m/s (32.9 mph)\n",
      "pressure at 7.50 hPa<a class=\"twitter-timeline-link u-hidden\" data-pre-embedded=\"true\" dir=\"ltr\" href=\"https://t.co/nkAZ6rX9xE\">pic.twitter.com/nkAZ6rX9xE</a></p>, <p class=\"TweetTextSize TweetTextSize--normal js-tweet-text tweet-text\" data-aria-label-part=\"0\" lang=\"en\">InSight sol 179 (2019-05-29) low -101.0ºC (-149.8ºF) high -21.5ºC (-6.6ºF)\n",
      "winds from the SW at 4.8 m/s (10.8 mph) gusting to 14.5 m/s (32.4 mph)\n",
      "pressure at 7.50 hPa<a class=\"twitter-timeline-link u-hidden\" data-pre-embedded=\"true\" dir=\"ltr\" href=\"https://t.co/nWS2m2GBsM\">pic.twitter.com/nWS2m2GBsM</a></p>]\n"
     ]
    }
   ],
   "source": [
    "print(mars_weather_tweet)"
   ]
  },
  {
   "cell_type": "code",
   "execution_count": 21,
   "metadata": {},
   "outputs": [
    {
     "data": {
      "text/plain": [
       "['InSight sol 195 (2019-06-14) low -105.6ºC (-158.1ºF) high -23.8ºC (-10.8ºF)\\nwinds from the SSE at 4.3 m/s (9.7 mph) gusting to 14.5 m/s (32.5 mph)\\npressure at 7.60 hPapic.twitter.com/3LNNz5uXCd',\n",
       " 'InSight sol 194 (2019-06-13) low -104.4ºC (-155.9ºF) high -23.5ºC (-10.3ºF)\\nwinds from the SSE at 4.5 m/s (10.0 mph) gusting to 17.0 m/s (38.1 mph)\\npressure at 7.60 hPa',\n",
       " 'InSight sol 193 (2019-06-12) low -103.7ºC (-154.7ºF) high -23.0ºC (-9.4ºF)\\nwinds from the SSE at 4.4 m/s (9.8 mph) gusting to 15.7 m/s (35.1 mph)\\npressure at 7.60 hPapic.twitter.com/EhemsIhPLv',\n",
       " 'InSight sol 192 (2019-06-11) low -104.9ºC (-156.8ºF) high -23.6ºC (-10.6ºF)\\nwinds from the W at 4.3 m/s (9.7 mph) gusting to 15.4 m/s (34.4 mph)\\npressure at 7.60 hPapic.twitter.com/qacCeZLc6e',\n",
       " 'InSight sol 191 (2019-06-10) low -104.9ºC (-156.9ºF) high -21.6ºC (-6.9ºF)\\nwinds from the SSE at 4.4 m/s (9.9 mph) gusting to 15.2 m/s (33.9 mph)\\npressure at 7.60 hPa',\n",
       " 'Mars has a new 16 mile wide crater. Hopefully @NASAInSight heard it hit.https://twitter.com/peter_grindrod/status/1138734735147057153\\xa0…',\n",
       " 'KABOOM! Before and after images of a meteorite forming a brand new impact crater on Mars. Sometime between 18 Feb 2017 and 20 March 2019. pic.twitter.com/TWXtUoP5NA',\n",
       " 'InSight sol 190 (2019-06-09) low -104.1ºC (-155.3ºF) high -22.5ºC (-8.5ºF)\\nwinds from the SSE at 4.6 m/s (10.3 mph) gusting to 16.6 m/s (37.1 mph)\\npressure at 7.60 hPapic.twitter.com/Z6vS1S8RJo',\n",
       " 'InSight sol 189 (2019-06-08) low -102.2ºC (-152.0ºF) high -22.4ºC (-8.3ºF)\\nwinds from the SSE at 4.7 m/s (10.5 mph) gusting to 16.5 m/s (36.9 mph)\\npressure at 7.60 hPa',\n",
       " '#OnThisDay June 10, 2003: Mars Rover Spirit launched, mission lasted 2695 Sols, extending the planned primary mission by 30x. #ThisDayinHistory \\n\\n(H/T @rtphokie)',\n",
       " 'InSight sol 188 (2019-06-07) low -102.5ºC (-152.6ºF) high -21.9ºC (-7.4ºF)\\nwinds from the SSE at 4.8 m/s (10.8 mph) gusting to 15.6 m/s (35.0 mph)\\npressure at 7.60 hPapic.twitter.com/ocUTA1rgaU',\n",
       " 'InSight sol 187 (2019-06-06) low -102.8ºC (-153.1ºF) high -21.9ºC (-7.5ºF)\\nwinds from the SSE at 4.4 m/s (9.8 mph) gusting to 16.1 m/s (36.1 mph)\\npressure at 7.60 hPa',\n",
       " 'InSight sol 186 (2019-06-05) low -101.7ºC (-151.0ºF) high -21.8ºC (-7.2ºF)\\nwinds from the SSE at 4.6 m/s (10.3 mph) gusting to 16.2 m/s (36.3 mph)\\npressure at 7.60 hPa',\n",
       " 'InSight sol 185 (2019-06-04) low -100.7ºC (-149.3ºF) high -21.2ºC (-6.2ºF)\\nwinds from the W at 4.5 m/s (10.1 mph) gusting to 15.3 m/s (34.3 mph)\\npressure at 7.60 hPa',\n",
       " 'Watch the #Mars2020 rover being built live from @NASAJPLhttps://youtu.be/PaNiYPglK58\\xa0',\n",
       " 'InSight sol 184 (2019-06-03) low -101.3ºC (-150.4ºF) high -22.1ºC (-7.7ºF)\\nwinds from the W at 4.5 m/s (10.0 mph) gusting to 15.2 m/s (33.9 mph)\\npressure at 7.60 hPapic.twitter.com/9e75FL7Fj5',\n",
       " 'InSight sol 183 (2019-06-02) low -101.1ºC (-150.0ºF) high -22.3ºC (-8.2ºF)\\nwinds from the SSE at 4.9 m/s (11.1 mph) gusting to 15.2 m/s (33.9 mph)\\npressure at 7.60 hPapic.twitter.com/X7ISVrTgLY',\n",
       " 'InSight sol 182 (2019-06-01) low -99.7ºC (-147.5ºF) high -22.6ºC (-8.7ºF)\\nwinds from the SSE at 5.7 m/s (12.7 mph) gusting to 15.9 m/s (35.5 mph)\\npressure at 7.50 hPapic.twitter.com/NmzIAqOiDG',\n",
       " 'InSight sol 181 (2019-05-31) low -100.6ºC (-149.1ºF) high -20.7ºC (-5.3ºF)\\nwinds from the SW at 5.1 m/s (11.3 mph) gusting to 14.9 m/s (33.3 mph)\\npressure at 7.50 hPapic.twitter.com/li2rdNRsJx',\n",
       " 'InSight sol 180 (2019-05-30) low -101.1ºC (-149.9ºF) high -21.8ºC (-7.2ºF)\\nwinds from the S at 4.7 m/s (10.5 mph) gusting to 14.7 m/s (32.9 mph)\\npressure at 7.50 hPapic.twitter.com/nkAZ6rX9xE',\n",
       " 'InSight sol 179 (2019-05-29) low -101.0ºC (-149.8ºF) high -21.5ºC (-6.6ºF)\\nwinds from the SW at 4.8 m/s (10.8 mph) gusting to 14.5 m/s (32.4 mph)\\npressure at 7.50 hPapic.twitter.com/nWS2m2GBsM']"
      ]
     },
     "execution_count": 21,
     "metadata": {},
     "output_type": "execute_result"
    }
   ],
   "source": [
    "[x.text for x in mars_weather_tweet]"
   ]
  },
  {
   "cell_type": "code",
   "execution_count": 22,
   "metadata": {},
   "outputs": [],
   "source": [
    "# # Mars Facts\n",
    "#visit the space facts site\n",
    "url = 'https://space-facts.com/mars/'\n",
    "browser.visit(url)"
   ]
  },
  {
   "cell_type": "code",
   "execution_count": 23,
   "metadata": {},
   "outputs": [],
   "source": [
    "# find the html table and convert to pandas dataframe\n",
    "mars_df = pd.read_html(url)\n",
    "mars_df = (mars_df[0])"
   ]
  },
  {
   "cell_type": "code",
   "execution_count": 24,
   "metadata": {},
   "outputs": [],
   "source": [
    "#set column headers \n",
    "mars_df.columns = [\"Description\", \"Value\"]\n",
    "# mars_df = mars_df.set_index(\"Description\")\n",
    "# I decided not to reset the index because, to me, it looks messier to have the column headers in two mis-aligned cells"
   ]
  },
  {
   "cell_type": "code",
   "execution_count": 25,
   "metadata": {},
   "outputs": [
    {
     "data": {
      "text/html": [
       "<div>\n",
       "<style scoped>\n",
       "    .dataframe tbody tr th:only-of-type {\n",
       "        vertical-align: middle;\n",
       "    }\n",
       "\n",
       "    .dataframe tbody tr th {\n",
       "        vertical-align: top;\n",
       "    }\n",
       "\n",
       "    .dataframe thead th {\n",
       "        text-align: right;\n",
       "    }\n",
       "</style>\n",
       "<table border=\"1\" class=\"dataframe\">\n",
       "  <thead>\n",
       "    <tr style=\"text-align: right;\">\n",
       "      <th></th>\n",
       "      <th>Description</th>\n",
       "      <th>Value</th>\n",
       "    </tr>\n",
       "  </thead>\n",
       "  <tbody>\n",
       "    <tr>\n",
       "      <th>0</th>\n",
       "      <td>Equatorial Diameter:</td>\n",
       "      <td>6,792 km</td>\n",
       "    </tr>\n",
       "    <tr>\n",
       "      <th>1</th>\n",
       "      <td>Polar Diameter:</td>\n",
       "      <td>6,752 km</td>\n",
       "    </tr>\n",
       "    <tr>\n",
       "      <th>2</th>\n",
       "      <td>Mass:</td>\n",
       "      <td>6.42 x 10^23 kg (10.7% Earth)</td>\n",
       "    </tr>\n",
       "    <tr>\n",
       "      <th>3</th>\n",
       "      <td>Moons:</td>\n",
       "      <td>2 (Phobos &amp; Deimos)</td>\n",
       "    </tr>\n",
       "    <tr>\n",
       "      <th>4</th>\n",
       "      <td>Orbit Distance:</td>\n",
       "      <td>227,943,824 km (1.52 AU)</td>\n",
       "    </tr>\n",
       "    <tr>\n",
       "      <th>5</th>\n",
       "      <td>Orbit Period:</td>\n",
       "      <td>687 days (1.9 years)</td>\n",
       "    </tr>\n",
       "    <tr>\n",
       "      <th>6</th>\n",
       "      <td>Surface Temperature:</td>\n",
       "      <td>-153 to 20 °C</td>\n",
       "    </tr>\n",
       "    <tr>\n",
       "      <th>7</th>\n",
       "      <td>First Record:</td>\n",
       "      <td>2nd millennium BC</td>\n",
       "    </tr>\n",
       "    <tr>\n",
       "      <th>8</th>\n",
       "      <td>Recorded By:</td>\n",
       "      <td>Egyptian astronomers</td>\n",
       "    </tr>\n",
       "  </tbody>\n",
       "</table>\n",
       "</div>"
      ],
      "text/plain": [
       "            Description                          Value\n",
       "0  Equatorial Diameter:                       6,792 km\n",
       "1       Polar Diameter:                       6,752 km\n",
       "2                 Mass:  6.42 x 10^23 kg (10.7% Earth)\n",
       "3                Moons:            2 (Phobos & Deimos)\n",
       "4       Orbit Distance:       227,943,824 km (1.52 AU)\n",
       "5         Orbit Period:           687 days (1.9 years)\n",
       "6  Surface Temperature:                  -153 to 20 °C\n",
       "7         First Record:              2nd millennium BC\n",
       "8          Recorded By:           Egyptian astronomers"
      ]
     },
     "execution_count": 25,
     "metadata": {},
     "output_type": "execute_result"
    }
   ],
   "source": [
    "mars_df"
   ]
  },
  {
   "cell_type": "code",
   "execution_count": 26,
   "metadata": {},
   "outputs": [
    {
     "data": {
      "text/plain": [
       "'<table border=\"1\" class=\"dataframe mars\">   <thead>     <tr style=\"text-align: right;\">       <th></th>       <th>Description</th>       <th>Value</th>     </tr>   </thead>   <tbody>     <tr>       <th>0</th>       <td>Equatorial Diameter:</td>       <td>6,792 km</td>     </tr>     <tr>       <th>1</th>       <td>Polar Diameter:</td>       <td>6,752 km</td>     </tr>     <tr>       <th>2</th>       <td>Mass:</td>       <td>6.42 x 10^23 kg (10.7% Earth)</td>     </tr>     <tr>       <th>3</th>       <td>Moons:</td>       <td>2 (Phobos &amp; Deimos)</td>     </tr>     <tr>       <th>4</th>       <td>Orbit Distance:</td>       <td>227,943,824 km (1.52 AU)</td>     </tr>     <tr>       <th>5</th>       <td>Orbit Period:</td>       <td>687 days (1.9 years)</td>     </tr>     <tr>       <th>6</th>       <td>Surface Temperature:</td>       <td>-153 to 20 °C</td>     </tr>     <tr>       <th>7</th>       <td>First Record:</td>       <td>2nd millennium BC</td>     </tr>     <tr>       <th>8</th>       <td>Recorded By:</td>       <td>Egyptian astronomers</td>     </tr>   </tbody> </table>'"
      ]
     },
     "execution_count": 26,
     "metadata": {},
     "output_type": "execute_result"
    }
   ],
   "source": [
    "mars_df = mars_df.to_html(classes='mars')\n",
    "table_data = mars_df.replace('\\n', ' ')\n",
    "table_data"
   ]
  },
  {
   "cell_type": "code",
   "execution_count": null,
   "metadata": {},
   "outputs": [],
   "source": []
  }
 ],
 "metadata": {
  "kernelspec": {
   "display_name": "Python 3",
   "language": "python",
   "name": "python3"
  },
  "language_info": {
   "codemirror_mode": {
    "name": "ipython",
    "version": 3
   },
   "file_extension": ".py",
   "mimetype": "text/x-python",
   "name": "python",
   "nbconvert_exporter": "python",
   "pygments_lexer": "ipython3",
   "version": "3.7.1"
  }
 },
 "nbformat": 4,
 "nbformat_minor": 2
}
